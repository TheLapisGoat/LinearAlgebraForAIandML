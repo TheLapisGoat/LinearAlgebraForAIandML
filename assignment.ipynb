{
 "cells": [
  {
   "cell_type": "markdown",
   "metadata": {},
   "source": [
    "# Linear Algebra for AI and ML Assignment\n",
    "### - Sourodeep Datta, 21CS10064"
   ]
  },
  {
   "cell_type": "code",
   "execution_count": 1,
   "metadata": {},
   "outputs": [],
   "source": [
    "from mnist.loader import MNIST\n",
    "import numpy as np\n",
    "import pandas as pd\n",
    "import matplotlib.pyplot as plt\n",
    "from scipy.linalg import toeplitz"
   ]
  },
  {
   "cell_type": "markdown",
   "metadata": {},
   "source": [
    "### Q1."
   ]
  },
  {
   "cell_type": "markdown",
   "metadata": {},
   "source": [
    "Loading the MNIST dataset"
   ]
  },
  {
   "cell_type": "code",
   "execution_count": 2,
   "metadata": {},
   "outputs": [],
   "source": [
    "mndata = MNIST('./MNIST')\n",
    "X_train, y_train = mndata.load_training()\n",
    "X_test, y_test = mndata.load_testing()\n",
    "X_train = np.array(X_train)\n",
    "y_train = np.array(y_train)\n",
    "X_test = np.array(X_test)\n",
    "y_test = np.array(y_test)"
   ]
  },
  {
   "cell_type": "markdown",
   "metadata": {},
   "source": [
    "Selecting Samples from class 1 and 7"
   ]
  },
  {
   "cell_type": "code",
   "execution_count": 3,
   "metadata": {},
   "outputs": [],
   "source": [
    "indices_1_train = np.where(y_train == 1)[0]\n",
    "indices_7_train = np.where(y_train == 7)[0]\n",
    "indices_1_test = np.where(y_test == 1)[0]\n",
    "indices_7_test = np.where(y_test == 7)[0]\n",
    "X_train = np.concatenate((X_train[indices_1_train], X_train[indices_7_train]))\n",
    "X_test = np.concatenate((X_test[indices_1_test], X_test[indices_7_test]))"
   ]
  },
  {
   "cell_type": "markdown",
   "metadata": {},
   "source": [
    "Assigning Labels to picked classes"
   ]
  },
  {
   "cell_type": "code",
   "execution_count": 4,
   "metadata": {},
   "outputs": [],
   "source": [
    "y_train = np.concatenate(([1]*len(indices_1_train), [-1]*len(indices_7_train)))\n",
    "y_test = np.concatenate(([1]*len(indices_1_test), [-1]*len(indices_7_test)))"
   ]
  },
  {
   "cell_type": "markdown",
   "metadata": {},
   "source": [
    "Calculating $x$ for Least Squares solution of $Ax = b$ with regularization parameter $\\lambda$"
   ]
  },
  {
   "cell_type": "code",
   "execution_count": 5,
   "metadata": {},
   "outputs": [],
   "source": [
    "Lambda = 0.0001\n",
    "x = np.matmul(np.linalg.inv(np.matmul(X_train.T, X_train) + Lambda * np.identity(X_train.shape[1])), np.matmul(X_train.T, y_train))"
   ]
  },
  {
   "cell_type": "markdown",
   "metadata": {},
   "source": [
    "Calculating Predictions"
   ]
  },
  {
   "cell_type": "code",
   "execution_count": 6,
   "metadata": {},
   "outputs": [],
   "source": [
    "y_pred = np.matmul(X_test, x)\n",
    "y_pred = np.sign(y_pred)"
   ]
  },
  {
   "cell_type": "markdown",
   "metadata": {},
   "source": [
    "Finding Accuracy"
   ]
  },
  {
   "cell_type": "code",
   "execution_count": 7,
   "metadata": {},
   "outputs": [
    {
     "name": "stdout",
     "output_type": "stream",
     "text": [
      "Accuracy:  0.9884419787332409\n"
     ]
    }
   ],
   "source": [
    "accuracy = np.sum(y_pred == y_test) / len(y_test)\n",
    "print(\"Accuracy: \", accuracy)"
   ]
  },
  {
   "cell_type": "markdown",
   "metadata": {},
   "source": [
    "Calculating Confusion Matrix (with respect to class $1$)"
   ]
  },
  {
   "cell_type": "code",
   "execution_count": 8,
   "metadata": {},
   "outputs": [
    {
     "name": "stdout",
     "output_type": "stream",
     "text": [
      "Confusion Matrix: \n",
      "True Positive:  1133.0 False Positive:  23.0\n",
      "False Negative:  2.0 True Negative:  1005.0\n"
     ]
    }
   ],
   "source": [
    "confusion_matrix = np.zeros((2, 2))\n",
    "for i in range(len(y_test)):\n",
    "    if y_test[i] == 1 and y_pred[i] == 1:\n",
    "        confusion_matrix[0][0] += 1\n",
    "    elif y_test[i] == -1 and y_pred[i] == 1:\n",
    "        confusion_matrix[0][1] += 1\n",
    "    elif y_test[i] == 1 and y_pred[i] == -1:\n",
    "        confusion_matrix[1][0] += 1\n",
    "    elif y_test[i] == -1 and y_pred[i] == -1:\n",
    "        confusion_matrix[1][1] += 1\n",
    "\n",
    "print(\"Confusion Matrix: \")\n",
    "print(\"True Positive: \", confusion_matrix[0][0], \"False Positive: \", confusion_matrix[0][1])\n",
    "print(\"False Negative: \", confusion_matrix[1][0], \"True Negative: \", confusion_matrix[1][1])"
   ]
  },
  {
   "cell_type": "markdown",
   "metadata": {},
   "source": [
    "### Q2"
   ]
  },
  {
   "cell_type": "markdown",
   "metadata": {},
   "source": [
    "Creating the datasets for the $10$ classifiers"
   ]
  },
  {
   "cell_type": "code",
   "execution_count": 9,
   "metadata": {},
   "outputs": [],
   "source": [
    "X_train, y_train = mndata.load_training()\n",
    "X_test, y_test = mndata.load_testing()\n",
    "X_train = np.array(X_train)\n",
    "y_train = np.array(y_train)\n",
    "X_test = np.array(X_test)\n",
    "y_test = np.array(y_test)\n",
    "\n",
    "X_train_list = []\n",
    "y_train_list = []\n",
    "\n",
    "for i in range(10):\n",
    "    indices_i_train = np.where(y_train == i)[0]\n",
    "    indices_i_test = np.where(y_test == i)[0]\n",
    "    X_train_temp = X_train[indices_i_train]\n",
    "    pos_examples = len(indices_i_train)\n",
    "    neg_examples = pos_examples\n",
    "    indices_neg = np.random.choice(np.where(y_train != i)[0], neg_examples)\n",
    "    X_train_temp = np.concatenate((X_train_temp, X_train[indices_neg]))\n",
    "    y_train_temp = np.concatenate(([1]*pos_examples, [-1]*neg_examples))\n",
    "    X_train_list.append(X_train_temp)\n",
    "    y_train_list.append(y_train_temp)"
   ]
  },
  {
   "cell_type": "markdown",
   "metadata": {},
   "source": [
    "Training the $10$ classifiers and using them to make predictions on the test set"
   ]
  },
  {
   "cell_type": "code",
   "execution_count": 10,
   "metadata": {},
   "outputs": [
    {
     "name": "stdout",
     "output_type": "stream",
     "text": [
      "Training Classifier for Digit:  0\n",
      "Training Classifier for Digit:  1\n",
      "Training Classifier for Digit:  2\n",
      "Training Classifier for Digit:  3\n",
      "Training Classifier for Digit:  4\n",
      "Training Classifier for Digit:  5\n",
      "Training Classifier for Digit:  6\n",
      "Training Classifier for Digit:  7\n",
      "Training Classifier for Digit:  8\n",
      "Training Classifier for Digit:  9\n"
     ]
    }
   ],
   "source": [
    "y_preds_list = []\n",
    "for i in range(10):\n",
    "    print(\"Training Classifier for Digit: \", i)\n",
    "    x = np.matmul(np.linalg.inv(np.matmul(X_train_list[i].T, X_train_list[i]) + Lambda * np.identity(X_train_list[i].shape[1])), np.matmul(X_train_list[i].T, y_train_list[i]))\n",
    "    y_pred = np.matmul(X_test, x)\n",
    "    y_preds_list.append(y_pred)"
   ]
  },
  {
   "cell_type": "markdown",
   "metadata": {},
   "source": [
    "Choosing the most likely prediction for each example in the test set"
   ]
  },
  {
   "cell_type": "code",
   "execution_count": 11,
   "metadata": {},
   "outputs": [],
   "source": [
    "y_pred = np.zeros(len(y_test))\n",
    "for i in range(len(y_test)):\n",
    "    max_val = -float('inf')\n",
    "    max_index = -1\n",
    "    for j in range(10):\n",
    "        if y_preds_list[j][i] > max_val:\n",
    "            max_val = y_preds_list[j][i]\n",
    "            max_index = j\n",
    "    y_pred[i] = max_index"
   ]
  },
  {
   "cell_type": "markdown",
   "metadata": {},
   "source": [
    "Calculating Accuracy"
   ]
  },
  {
   "cell_type": "code",
   "execution_count": 12,
   "metadata": {},
   "outputs": [
    {
     "name": "stdout",
     "output_type": "stream",
     "text": [
      "Accuracy:  0.8715\n"
     ]
    }
   ],
   "source": [
    "accuracy = np.sum(y_pred == y_test) / len(y_test)\n",
    "print(\"Accuracy: \", accuracy)"
   ]
  },
  {
   "cell_type": "markdown",
   "metadata": {},
   "source": [
    "Calculating Confusion Matrix"
   ]
  },
  {
   "cell_type": "code",
   "execution_count": 13,
   "metadata": {},
   "outputs": [
    {
     "name": "stdout",
     "output_type": "stream",
     "text": [
      "Confusion Matrix: \n",
      "[[ 912    1    7    0    3   24   16    2   13    2]\n",
      " [   0 1090    3    5    1    1    2    1   32    0]\n",
      " [  12   29  819   32   25   10   18   12   67    8]\n",
      " [   9    1   18  876    4   43    7    9   31   12]\n",
      " [   1    7    5    5  877    0    8    3   17   59]\n",
      " [  12   11    2   35    7  714   17   10   59   25]\n",
      " [  11    9    8    1   19   42  855    0   11    2]\n",
      " [   5   24   15   17   26    0    1  852    5   83]\n",
      " [   7   19    6   20   11   25   11   17  829   29]\n",
      " [  12    8    3   15   40    7    0   21   12  891]]\n"
     ]
    }
   ],
   "source": [
    "confusion_matrix = np.zeros((10, 10))\n",
    "for i in range(len(y_test)):\n",
    "    confusion_matrix[y_test[i]][int(y_pred[i])] += 1\n",
    "\n",
    "#Print Confusion Matrix with appropriate labels alligned properly\n",
    "print(\"Confusion Matrix: \")\n",
    "confusion_matrix = confusion_matrix.astype(int)\n",
    "print(confusion_matrix)"
   ]
  },
  {
   "cell_type": "markdown",
   "metadata": {},
   "source": [
    "### Q3"
   ]
  },
  {
   "cell_type": "markdown",
   "metadata": {},
   "source": [
    "Creating the vectors $p$ and $q$"
   ]
  },
  {
   "cell_type": "code",
   "execution_count": 14,
   "metadata": {},
   "outputs": [],
   "source": [
    "p = np.random.uniform(-10, 10, 100)\n",
    "q = np.random.uniform(-10, 10, 100)"
   ]
  },
  {
   "cell_type": "markdown",
   "metadata": {},
   "source": [
    "Creating the vector $b$"
   ]
  },
  {
   "cell_type": "code",
   "execution_count": 15,
   "metadata": {},
   "outputs": [
    {
     "name": "stdout",
     "output_type": "stream",
     "text": [
      "[-1  1 -1 -1 -1  1  1  1 -1 -1 -1 -1 -1 -1 -1 -1  1  1 -1 -1 -1  1  1  1\n",
      " -1  1 -1  1  1  1  1 -1 -1 -1  1 -1  1 -1  1  1  1  1 -1 -1 -1 -1 -1 -1\n",
      " -1  1  1 -1  1 -1  1  1 -1 -1 -1  1 -1 -1  1 -1  1 -1  1  1 -1 -1 -1 -1\n",
      " -1  1  1 -1  1 -1  1 -1 -1 -1 -1  1 -1 -1 -1 -1  1  1 -1 -1  1  1  1  1\n",
      "  1 -1  1 -1]\n"
     ]
    }
   ],
   "source": [
    "b = p * q\n",
    "b = np.where(b > 1, 1, -1)\n",
    "print(b)"
   ]
  },
  {
   "cell_type": "markdown",
   "metadata": {},
   "source": [
    "Creating the Matrix $A$"
   ]
  },
  {
   "cell_type": "code",
   "execution_count": 16,
   "metadata": {},
   "outputs": [],
   "source": [
    "A = np.zeros((100, 6))\n",
    "for i in range(100):\n",
    "    A[i][0] = 1\n",
    "    A[i][1] = p[i]\n",
    "    A[i][2] = q[i]\n",
    "    A[i][3] = p[i] ** 2\n",
    "    A[i][4] = q[i] ** 2\n",
    "    A[i][5] = p[i] * q[i]"
   ]
  },
  {
   "cell_type": "markdown",
   "metadata": {},
   "source": [
    "Using Least Squares to find the best $x$ for the equation $Ax = b$"
   ]
  },
  {
   "cell_type": "code",
   "execution_count": 17,
   "metadata": {},
   "outputs": [
    {
     "name": "stdout",
     "output_type": "stream",
     "text": [
      "[-0.18489313 -0.01156744 -0.00140703  0.00248642 -0.00059205  0.0241854 ]\n"
     ]
    }
   ],
   "source": [
    "x = np.matmul(np.linalg.inv(np.matmul(A.T, A) + Lambda * np.identity(A.shape[1])), np.matmul(A.T, b))\n",
    "print(x)"
   ]
  },
  {
   "cell_type": "markdown",
   "metadata": {},
   "source": [
    "### Q4"
   ]
  },
  {
   "cell_type": "markdown",
   "metadata": {},
   "source": [
    "Creating the vectors $p$ and $q$"
   ]
  },
  {
   "cell_type": "code",
   "execution_count": 18,
   "metadata": {},
   "outputs": [],
   "source": [
    "p = np.random.uniform(-1, 1, 100)\n",
    "q = np.random.uniform(-1, 1, 100)"
   ]
  },
  {
   "cell_type": "markdown",
   "metadata": {},
   "source": [
    "Creating the vector $b$"
   ]
  },
  {
   "cell_type": "code",
   "execution_count": 19,
   "metadata": {},
   "outputs": [
    {
     "name": "stdout",
     "output_type": "stream",
     "text": [
      "[4.42854297e-01 8.19381077e-02 7.80851816e-01 9.21159020e-01\n",
      " 3.26095658e-01 3.72965501e-01 6.32087950e-01 3.57975034e-02\n",
      " 4.45139299e-01 4.02154775e-01 4.34462152e-01 7.67152548e-01\n",
      " 8.86805022e-01 1.54814002e-01 8.10561788e-01 1.58532048e+00\n",
      " 2.12573795e-01 2.39266602e-01 1.67815963e+00 6.33604669e-01\n",
      " 9.08746031e-01 3.76890756e-01 6.31999189e-01 3.60953182e-01\n",
      " 1.45623140e+00 6.90323298e-01 1.20864882e-01 2.89222794e-01\n",
      " 4.94464799e-01 1.30441421e+00 2.61647012e-03 1.02968340e-01\n",
      " 4.23783706e-01 2.46285614e-03 7.38920241e-01 5.07921801e-01\n",
      " 5.54022562e-02 1.40732276e-02 3.23806284e-02 9.83539922e-01\n",
      " 1.77453596e+00 2.67186268e-01 6.60928244e-01 6.76182492e-02\n",
      " 2.07822293e-01 1.33276323e+00 6.62170878e-01 1.10103718e-01\n",
      " 1.15861778e+00 4.69744280e-01 4.34863443e-01 3.84027890e-01\n",
      " 2.32517352e-02 2.54042688e+00 1.39800524e+00 6.55490811e-02\n",
      " 2.73029995e-01 1.63949345e-01 1.07345510e+00 1.96521697e-01\n",
      " 4.31559795e-01 7.69798930e-01 4.69954481e-01 1.27559676e+00\n",
      " 4.75318117e-01 9.13726123e-01 3.52660605e-01 4.21068744e-01\n",
      " 5.67641618e-01 8.88699548e-01 8.25356645e-01 6.44924557e-01\n",
      " 2.47106973e-02 1.22858745e-01 7.51059734e-01 6.71413030e-01\n",
      " 5.52684678e-01 1.08034231e+00 1.05499268e+00 1.92606880e-02\n",
      " 3.68151570e-01 1.97479202e+00 1.84019748e-01 5.67944670e-01\n",
      " 2.00378641e-01 2.51610621e-01 2.94783462e-01 2.38348763e-01\n",
      " 1.11661787e+00 2.40856714e-01 1.32900302e+00 1.12009607e-01\n",
      " 6.51697240e-01 7.46290540e-01 2.54612753e-01 1.78421673e-01\n",
      " 4.73998204e-01 8.80860020e-01 7.36378864e-01 5.98690408e-01]\n"
     ]
    }
   ],
   "source": [
    "b = p * q + p ** 2 + q ** 2\n",
    "print(b)"
   ]
  },
  {
   "cell_type": "markdown",
   "metadata": {},
   "source": [
    "Creating the matrix $A$"
   ]
  },
  {
   "cell_type": "code",
   "execution_count": 20,
   "metadata": {},
   "outputs": [],
   "source": [
    "A = np.zeros((100, 6))\n",
    "for i in range(100):\n",
    "    A[i][0] = 1\n",
    "    A[i][1] = p[i]\n",
    "    A[i][2] = q[i]\n",
    "    A[i][3] = p[i] ** 2\n",
    "    A[i][4] = q[i] ** 2\n",
    "    A[i][5] = p[i] * q[i]"
   ]
  },
  {
   "cell_type": "markdown",
   "metadata": {},
   "source": [
    "Using Least Squares to find the best $x$ for the equation $Ax = b$"
   ]
  },
  {
   "cell_type": "code",
   "execution_count": 21,
   "metadata": {},
   "outputs": [
    {
     "name": "stdout",
     "output_type": "stream",
     "text": [
      "[ 7.74389189e-06 -1.30325071e-06 -7.61919581e-07  9.99983268e-01\n",
      "  9.99988984e-01  9.99986718e-01]\n"
     ]
    }
   ],
   "source": [
    "x = np.matmul(np.linalg.inv(np.matmul(A.T, A) + Lambda * np.identity(A.shape[1])), np.matmul(A.T, b))\n",
    "print(x)"
   ]
  },
  {
   "cell_type": "markdown",
   "metadata": {},
   "source": [
    "Calculating $MSE$"
   ]
  },
  {
   "cell_type": "code",
   "execution_count": 22,
   "metadata": {},
   "outputs": [
    {
     "name": "stdout",
     "output_type": "stream",
     "text": [
      "MSE:  4.10300682783642e-11\n"
     ]
    }
   ],
   "source": [
    "mse = np.zeros(100)\n",
    "b_pred = np.matmul(A, x)\n",
    "mse = np.sum((b_pred - b) ** 2) / 100\n",
    "print('MSE: ', mse)"
   ]
  },
  {
   "cell_type": "markdown",
   "metadata": {},
   "source": [
    "### Q5"
   ]
  },
  {
   "cell_type": "markdown",
   "metadata": {},
   "source": [
    "Creating the vectors $p$"
   ]
  },
  {
   "cell_type": "code",
   "execution_count": 23,
   "metadata": {},
   "outputs": [],
   "source": [
    "p = np.random.uniform(0, 1, 100)"
   ]
  },
  {
   "cell_type": "markdown",
   "metadata": {},
   "source": [
    "Creating the vector $b$"
   ]
  },
  {
   "cell_type": "code",
   "execution_count": 24,
   "metadata": {},
   "outputs": [
    {
     "name": "stdout",
     "output_type": "stream",
     "text": [
      "[3.73260213 1.70480199 3.95908767 2.06677252 3.89563683 1.11304711\n",
      " 3.32694322 1.52266892 1.29181393 1.94341275 0.23909882 0.61037704\n",
      " 3.91468114 2.70034776 1.88091001 3.99610663 2.43644197 3.63404974\n",
      " 0.39840922 0.96772854 1.05984527 2.90583112 1.54752438 3.78190448\n",
      " 3.71694804 1.05320933 1.98973675 0.61347114 2.86790309 3.95234051\n",
      " 2.55797231 1.5273051  1.74109181 2.54608893 0.38437132 2.30758829\n",
      " 2.75631545 2.24576668 1.30555361 2.75090503 3.91493201 0.26656969\n",
      " 3.92760492 3.39609297 1.05535675 3.35051816 1.72450206 1.83807209\n",
      " 0.36393279 3.96250974 2.54446314 3.1444182  2.48358355 0.31907\n",
      " 0.25110049 3.44481643 0.79245544 3.45899274 3.70387999 3.22122477\n",
      " 1.772841   1.49692947 0.95541978 1.22344752 2.13707524 3.0929304\n",
      " 0.21606007 1.43531985 2.81605729 1.16750684 3.2964586  3.97872412\n",
      " 1.84824751 3.18343075 0.69211465 1.82244584 0.11654297 3.93749227\n",
      " 3.96646848 3.98318426 2.58878845 3.75336608 3.01883793 3.73282002\n",
      " 3.64803928 3.79430713 1.6978213  3.92413927 1.15682664 2.66505321\n",
      " 3.80272781 3.9953664  3.31784242 0.42958915 3.6338222  2.87940716\n",
      " 2.80157651 3.92047858 1.01834779 0.085538  ]\n"
     ]
    }
   ],
   "source": [
    "b = 7 * p - 3 * p ** 2\n",
    "print(b)"
   ]
  },
  {
   "cell_type": "markdown",
   "metadata": {},
   "source": [
    "### Part a"
   ]
  },
  {
   "cell_type": "markdown",
   "metadata": {},
   "source": [
    "Creating the matrix $A$ for n = 10"
   ]
  },
  {
   "cell_type": "code",
   "execution_count": 25,
   "metadata": {},
   "outputs": [],
   "source": [
    "n = 10\n",
    "A = np.zeros((100, n))\n",
    "for i in range(n):\n",
    "    A[:, i] = 0\n",
    "    left_pt = i / n\n",
    "    right_pt = (i + 1) / n\n",
    "    mid_pt = (left_pt + right_pt) / 2\n",
    "    indices = np.where((p >= left_pt) & (p <= right_pt))[0]\n",
    "    A[indices, i] = (right_pt - p[indices]) / (right_pt - mid_pt)\n",
    "    A[indices, i] = np.where(A[indices, i] > 1, (p[indices] - left_pt) / (mid_pt - left_pt), A[indices, i]) "
   ]
  },
  {
   "cell_type": "markdown",
   "metadata": {},
   "source": [
    "Using Least Squares to find the best $x$ for the equation $Ax = b$"
   ]
  },
  {
   "cell_type": "code",
   "execution_count": 26,
   "metadata": {},
   "outputs": [
    {
     "name": "stdout",
     "output_type": "stream",
     "text": [
      "[ 0.43336238  1.428658    2.34840905  3.20440849  3.20329711  5.01347795\n",
      "  5.03159522 10.86776711  5.2572859   5.87346625]\n"
     ]
    }
   ],
   "source": [
    "x = np.matmul(np.linalg.inv(np.matmul(A.T, A) + Lambda * np.identity(A.shape[1])), np.matmul(A.T, b))\n",
    "print(x)"
   ]
  },
  {
   "cell_type": "markdown",
   "metadata": {},
   "source": [
    "Calculating $MSE$"
   ]
  },
  {
   "cell_type": "code",
   "execution_count": 27,
   "metadata": {},
   "outputs": [
    {
     "name": "stdout",
     "output_type": "stream",
     "text": [
      "MSE:  1.3766414372278613\n"
     ]
    }
   ],
   "source": [
    "mse = np.zeros(100)\n",
    "b_pred = np.matmul(A, x)\n",
    "mse = np.sum((b_pred - b) ** 2) / 100\n",
    "print('MSE: ', mse)"
   ]
  },
  {
   "cell_type": "markdown",
   "metadata": {},
   "source": [
    "Creating the matrix $A$ for n = 50"
   ]
  },
  {
   "cell_type": "code",
   "execution_count": 28,
   "metadata": {},
   "outputs": [],
   "source": [
    "n = 50\n",
    "A = np.zeros((100, n))\n",
    "for i in range(n):\n",
    "    A[:, i] = 0\n",
    "    left_pt = i / n\n",
    "    right_pt = (i + 1) / n\n",
    "    mid_pt = (left_pt + right_pt) / 2\n",
    "    indices = np.where((p >= left_pt) & (p <= right_pt))[0]\n",
    "    A[indices, i] = (right_pt - p[indices]) / (right_pt - mid_pt)\n",
    "    A[indices, i] = np.where(A[indices, i] > 1, (p[indices] - left_pt) / (mid_pt - left_pt), A[indices, i]) "
   ]
  },
  {
   "cell_type": "markdown",
   "metadata": {},
   "source": [
    "Using Least Squares to find the best $x$ for the equation $Ax = b$"
   ]
  },
  {
   "cell_type": "code",
   "execution_count": 29,
   "metadata": {},
   "outputs": [
    {
     "name": "stdout",
     "output_type": "stream",
     "text": [
      "[  0.1481162    0.37008277   0.63080768   1.39559501   0.67663929\n",
      "   2.3610125    0.           1.59811099   2.02125207   1.35049899\n",
      "   3.54881782   2.38429873   2.84701346   3.802054     2.56382279\n",
      "   2.49465466   2.66390185   3.04023696  17.47348119   6.49622218\n",
      "   0.           4.99520478   2.96228788  29.71078972   3.50617207\n",
      "   5.4450638    3.33771606 127.76163799   3.34978269   3.91126367\n",
      "   4.8764821    3.42575022   6.01625075   5.67244866   4.22149741\n",
      "   4.30594576   0.           0.          92.67260861   6.34323943\n",
      "   4.93511912   7.69321378   4.71300352  45.08351017   0.\n",
      "  11.23572012   4.9488938    7.6824111    5.54867761   9.61679784]\n"
     ]
    }
   ],
   "source": [
    "x = np.matmul(np.linalg.inv(np.matmul(A.T, A) + Lambda * np.identity(A.shape[1])), np.matmul(A.T, b))\n",
    "print(x)"
   ]
  },
  {
   "cell_type": "markdown",
   "metadata": {},
   "source": [
    "Calculating $MSE$"
   ]
  },
  {
   "cell_type": "code",
   "execution_count": 30,
   "metadata": {},
   "outputs": [
    {
     "name": "stdout",
     "output_type": "stream",
     "text": [
      "MSE:  1.0761977510699496\n"
     ]
    }
   ],
   "source": [
    "mse = np.zeros(100)\n",
    "b_pred = np.matmul(A, x)\n",
    "mse = np.sum((b_pred - b) ** 2) / 100\n",
    "print('MSE: ', mse)"
   ]
  },
  {
   "cell_type": "markdown",
   "metadata": {},
   "source": [
    "### Part b"
   ]
  },
  {
   "cell_type": "markdown",
   "metadata": {},
   "source": [
    "Let the multiobjective least squares function be $J$. Then,\n",
    "$$J  = J_1 + \\lambda J_2$$\n",
    "Where $J_1$ is the $\\frac{1}{100}\\sum_{i=1}^{100} (b_i - A_ix)^2$, where $A_i$ is the $i^{th}$ row of $A$ and $J_2$ is $\\Vert{x}\\Vert^{\\tiny 2}_{\\tiny 2}$.\n",
    "\n",
    "Here we can write $J_1$ as $\\frac{1}{100} \\Vert{b - Ax}\\Vert^{\\tiny 2}_{\\tiny 2} = \\Vert{\\frac{b}{\\tiny 10} - \\frac{A}{\\tiny 10}x}\\Vert^{\\tiny 2}_{\\tiny 2} = \\Vert{b' - A'x}\\Vert^{\\tiny 2}_{\\tiny 2}$. Thus, $J$ becomes,\n",
    "$$J = \\Vert{b' - A'x}\\Vert^{\\tiny 2}_{\\tiny 2} + \\lambda \\Vert{x}\\Vert^{\\tiny 2}_{\\tiny 2}$$\n",
    "which has the solution,\n",
    "$$x = (A'^TA' + \\lambda I)^{-1}A'^Tb'$$"
   ]
  },
  {
   "cell_type": "markdown",
   "metadata": {},
   "source": [
    "Sampling 5 random values of $\\lambda$ from the range $(0, 0.2)$ "
   ]
  },
  {
   "cell_type": "code",
   "execution_count": 31,
   "metadata": {},
   "outputs": [
    {
     "name": "stdout",
     "output_type": "stream",
     "text": [
      "Lambdas:  [0.13127422 0.09078731 0.19120073 0.03328107 0.03151993]\n"
     ]
    }
   ],
   "source": [
    "lambdas = np.random.uniform(0, 0.2, 5)\n",
    "print('Lambdas: ', lambdas)"
   ]
  },
  {
   "cell_type": "markdown",
   "metadata": {},
   "source": [
    "Creating the matrix $A$ and $A'$ for n = 150"
   ]
  },
  {
   "cell_type": "code",
   "execution_count": 32,
   "metadata": {},
   "outputs": [],
   "source": [
    "n = 150\n",
    "A = np.zeros((100, n))\n",
    "for i in range(n):\n",
    "    A[:, i] = 0\n",
    "    left_pt = i / n\n",
    "    right_pt = (i + 1) / n\n",
    "    mid_pt = (left_pt + right_pt) / 2\n",
    "    indices = np.where((p >= left_pt) & (p <= right_pt))[0]\n",
    "    A[indices, i] = (right_pt - p[indices]) / (right_pt - mid_pt)\n",
    "    A[indices, i] = np.where(A[indices, i] > 1, (p[indices] - left_pt) / (mid_pt - left_pt), A[indices, i]) \n",
    "\n",
    "A_prime = A / 10\n",
    "b_prime = b / 10"
   ]
  },
  {
   "cell_type": "markdown",
   "metadata": {},
   "source": [
    "Finding the best $x$ for each $\\lambda$ to minimize $J$"
   ]
  },
  {
   "cell_type": "code",
   "execution_count": 33,
   "metadata": {},
   "outputs": [
    {
     "name": "stdout",
     "output_type": "stream",
     "text": [
      "For Lambda:  0.13127421568636488  MSE:  6.569134523123426\n",
      "For Lambda:  0.09078731278532093  MSE:  6.37040671180696\n",
      "For Lambda:  0.19120073239165744  MSE:  6.71914974778468\n",
      "For Lambda:  0.03328106597220326  MSE:  5.498195537331433\n",
      "For Lambda:  0.03151992739336223  MSE:  5.4363143786625905\n"
     ]
    }
   ],
   "source": [
    "x_list = []\n",
    "for Lambda in lambdas:\n",
    "    x = np.matmul(np.linalg.inv(np.matmul(A_prime.T, A_prime) + Lambda * np.identity(A_prime.shape[1])), np.matmul(A_prime.T, b_prime))\n",
    "    mse = np.zeros(100)\n",
    "    b_pred = np.matmul(A, x)\n",
    "    mse = np.sum((b_pred - b) ** 2) / 100\n",
    "    x_list.append(x)\n",
    "    print('For Lambda: ', Lambda, ' MSE: ', mse)"
   ]
  },
  {
   "cell_type": "code",
   "execution_count": 34,
   "metadata": {},
   "outputs": [
    {
     "name": "stdout",
     "output_type": "stream",
     "text": [
      "x:  [0.   0.   0.01 0.   0.01 0.03 0.   0.   0.04 0.03 0.   0.   0.   0.06\n",
      " 0.   0.05 0.   0.01 0.   0.   0.   0.02 0.02 0.06 0.14 0.04 0.03 0.02\n",
      " 0.08 0.   0.12 0.   0.   0.   0.02 0.06 0.18 0.02 0.   0.   0.   0.17\n",
      " 0.11 0.09 0.06 0.18 0.13 0.   0.09 0.09 0.   0.   0.01 0.   0.06 0.\n",
      " 0.   0.13 0.   0.14 0.   0.   0.   0.05 0.   0.16 0.   0.28 0.02 0.05\n",
      " 0.   0.06 0.   0.06 0.   0.11 0.02 0.2  0.   0.2  0.   0.01 0.   0.\n",
      " 0.   0.16 0.   0.   0.09 0.   0.   0.04 0.07 0.   0.19 0.   0.   0.\n",
      " 0.09 0.27 0.07 0.   0.   0.11 0.   0.1  0.21 0.   0.   0.   0.   0.\n",
      " 0.   0.   0.   0.   0.06 0.08 0.   0.   0.   0.19 0.23 0.3  0.   0.14\n",
      " 0.   0.25 0.24 0.07 0.   0.   0.   0.   0.   0.   0.   0.27 0.   0.48\n",
      " 0.38 0.04 0.   0.2  0.32 0.23 0.01 0.23 0.   0.41]\n",
      "x:  [0.   0.   0.01 0.   0.01 0.04 0.   0.   0.05 0.04 0.   0.   0.   0.09\n",
      " 0.   0.07 0.   0.02 0.   0.   0.   0.03 0.03 0.08 0.2  0.06 0.04 0.03\n",
      " 0.11 0.   0.17 0.   0.   0.   0.02 0.09 0.25 0.03 0.   0.   0.   0.23\n",
      " 0.16 0.13 0.09 0.26 0.18 0.   0.13 0.13 0.   0.   0.01 0.   0.08 0.\n",
      " 0.   0.18 0.   0.19 0.   0.   0.   0.07 0.   0.23 0.   0.4  0.02 0.07\n",
      " 0.   0.08 0.   0.09 0.   0.16 0.03 0.28 0.   0.29 0.   0.02 0.   0.\n",
      " 0.   0.22 0.   0.   0.12 0.   0.   0.06 0.11 0.   0.27 0.   0.   0.\n",
      " 0.13 0.38 0.1  0.   0.   0.15 0.   0.15 0.3  0.   0.   0.   0.   0.\n",
      " 0.   0.   0.   0.   0.09 0.11 0.   0.   0.   0.27 0.32 0.43 0.   0.2\n",
      " 0.   0.35 0.34 0.1  0.   0.   0.   0.   0.   0.   0.   0.37 0.   0.66\n",
      " 0.53 0.06 0.   0.28 0.46 0.32 0.01 0.33 0.   0.58]\n",
      "x:  [0.   0.   0.01 0.   0.01 0.02 0.   0.   0.03 0.02 0.   0.   0.   0.04\n",
      " 0.   0.03 0.   0.01 0.   0.   0.   0.02 0.01 0.04 0.1  0.03 0.02 0.01\n",
      " 0.06 0.   0.08 0.   0.   0.   0.01 0.04 0.13 0.01 0.   0.   0.   0.12\n",
      " 0.08 0.07 0.04 0.13 0.09 0.   0.06 0.06 0.   0.   0.   0.   0.04 0.\n",
      " 0.   0.09 0.   0.09 0.   0.   0.   0.04 0.   0.12 0.   0.2  0.01 0.03\n",
      " 0.   0.04 0.   0.04 0.   0.08 0.01 0.14 0.   0.14 0.   0.01 0.   0.\n",
      " 0.   0.11 0.   0.   0.06 0.   0.   0.03 0.05 0.   0.13 0.   0.   0.\n",
      " 0.06 0.18 0.05 0.   0.   0.07 0.   0.07 0.15 0.   0.   0.   0.   0.\n",
      " 0.   0.   0.   0.   0.04 0.05 0.   0.   0.   0.13 0.16 0.21 0.   0.1\n",
      " 0.   0.17 0.17 0.05 0.   0.   0.   0.   0.   0.   0.   0.19 0.   0.34\n",
      " 0.26 0.03 0.   0.14 0.23 0.16 0.   0.16 0.   0.29]\n",
      "x:  [0.   0.01 0.03 0.   0.04 0.1  0.   0.   0.12 0.09 0.   0.   0.   0.2\n",
      " 0.   0.16 0.   0.05 0.   0.   0.   0.09 0.08 0.2  0.44 0.16 0.1  0.08\n",
      " 0.27 0.   0.4  0.   0.   0.   0.06 0.23 0.55 0.08 0.   0.   0.   0.54\n",
      " 0.38 0.33 0.23 0.59 0.42 0.   0.33 0.33 0.   0.   0.02 0.   0.23 0.\n",
      " 0.   0.45 0.   0.47 0.   0.   0.   0.2  0.   0.55 0.   0.89 0.06 0.19\n",
      " 0.   0.21 0.   0.24 0.   0.42 0.08 0.64 0.   0.68 0.   0.04 0.   0.\n",
      " 0.   0.56 0.   0.   0.33 0.   0.   0.16 0.29 0.   0.66 0.   0.   0.\n",
      " 0.34 0.92 0.27 0.   0.   0.4  0.   0.4  0.73 0.   0.   0.   0.   0.\n",
      " 0.   0.   0.   0.   0.24 0.29 0.   0.   0.   0.67 0.77 1.06 0.   0.53\n",
      " 0.   0.83 0.82 0.28 0.   0.   0.   0.   0.   0.   0.   0.88 0.   1.42\n",
      " 1.24 0.17 0.   0.72 1.07 0.79 0.02 0.81 0.   1.33]\n",
      "x:  [0.   0.01 0.03 0.   0.04 0.1  0.   0.   0.13 0.1  0.   0.   0.   0.21\n",
      " 0.   0.16 0.   0.05 0.   0.   0.   0.1  0.08 0.21 0.46 0.17 0.11 0.09\n",
      " 0.28 0.   0.42 0.   0.   0.   0.07 0.24 0.57 0.09 0.   0.   0.   0.56\n",
      " 0.4  0.35 0.24 0.61 0.44 0.   0.34 0.35 0.   0.   0.03 0.   0.24 0.\n",
      " 0.   0.47 0.   0.49 0.   0.   0.   0.21 0.   0.57 0.   0.92 0.07 0.2\n",
      " 0.   0.23 0.   0.26 0.   0.44 0.08 0.67 0.   0.71 0.   0.05 0.   0.\n",
      " 0.   0.58 0.   0.   0.35 0.   0.   0.17 0.3  0.   0.69 0.   0.   0.\n",
      " 0.36 0.97 0.28 0.   0.   0.42 0.   0.42 0.76 0.   0.   0.   0.   0.\n",
      " 0.   0.   0.   0.   0.26 0.31 0.   0.   0.   0.71 0.81 1.11 0.   0.56\n",
      " 0.   0.86 0.85 0.3  0.   0.   0.   0.   0.   0.   0.   0.92 0.   1.47\n",
      " 1.29 0.18 0.   0.75 1.12 0.83 0.03 0.85 0.   1.38]\n"
     ]
    }
   ],
   "source": [
    "for x in x_list:\n",
    "    np.set_printoptions(precision=2)\n",
    "    print('x: ', x)"
   ]
  },
  {
   "cell_type": "markdown",
   "metadata": {},
   "source": [
    "Creating the matrix $A$ and $A'$ for n = 200"
   ]
  },
  {
   "cell_type": "code",
   "execution_count": 35,
   "metadata": {},
   "outputs": [],
   "source": [
    "n = 200\n",
    "A = np.zeros((100, n))\n",
    "for i in range(n):\n",
    "    A[:, i] = 0\n",
    "    left_pt = i / n\n",
    "    right_pt = (i + 1) / n\n",
    "    mid_pt = (left_pt + right_pt) / 2\n",
    "    indices = np.where((p >= left_pt) & (p <= right_pt))[0]\n",
    "    A[indices, i] = (right_pt - p[indices]) / (right_pt - mid_pt)\n",
    "    A[indices, i] = np.where(A[indices, i] > 1, (p[indices] - left_pt) / (mid_pt - left_pt), A[indices, i]) \n",
    "\n",
    "A_prime = A / 10\n",
    "b_prime = b / 10"
   ]
  },
  {
   "cell_type": "markdown",
   "metadata": {},
   "source": [
    "Finding the best $x$ for each $\\lambda$ to minimize $J$"
   ]
  },
  {
   "cell_type": "code",
   "execution_count": 36,
   "metadata": {},
   "outputs": [
    {
     "name": "stdout",
     "output_type": "stream",
     "text": [
      "For Lambda:  0.13127421568636488  MSE:  6.780700534992438\n",
      "For Lambda:  0.09078731278532093  MSE:  6.657907939550653\n",
      "For Lambda:  0.19120073239165744  MSE:  6.871106532757642\n",
      "For Lambda:  0.03328106597220326  MSE:  6.0731065215832345\n",
      "For Lambda:  0.03151992739336223  MSE:  6.028445677437827\n"
     ]
    }
   ],
   "source": [
    "x_list = []\n",
    "for Lambda in lambdas:\n",
    "    x = np.matmul(np.linalg.inv(np.matmul(A_prime.T, A_prime) + Lambda * np.identity(A_prime.shape[1])), np.matmul(A_prime.T, b_prime))\n",
    "    mse = np.zeros(100)\n",
    "    b_pred = np.matmul(A, x)\n",
    "    mse = np.sum((b_pred - b) ** 2) / 100\n",
    "    x_list.append(x)\n",
    "    print('For Lambda: ', Lambda, ' MSE: ', mse)"
   ]
  },
  {
   "cell_type": "code",
   "execution_count": 37,
   "metadata": {},
   "outputs": [
    {
     "name": "stdout",
     "output_type": "stream",
     "text": [
      "x:  [0.   0.   0.01 0.01 0.   0.   0.01 0.02 0.   0.01 0.02 0.03 0.02 0.\n",
      " 0.   0.   0.   0.   0.04 0.   0.03 0.   0.   0.02 0.   0.   0.   0.\n",
      " 0.   0.08 0.   0.03 0.17 0.   0.05 0.04 0.03 0.   0.01 0.   0.1  0.\n",
      " 0.   0.   0.   0.09 0.   0.08 0.15 0.1  0.   0.   0.   0.   0.   0.07\n",
      " 0.1  0.05 0.   0.08 0.16 0.01 0.   0.   0.12 0.   0.08 0.   0.   0.11\n",
      " 0.   0.   0.08 0.   0.   0.   0.07 0.   0.   0.15 0.   0.   0.   0.\n",
      " 0.   0.05 0.   0.11 0.   0.   0.2  0.   0.07 0.   0.   0.07 0.   0.18\n",
      " 0.   0.   0.15 0.   0.16 0.14 0.   0.   0.17 0.   0.01 0.   0.   0.\n",
      " 0.   0.   0.09 0.   0.   0.   0.19 0.   0.   0.2  0.   0.1  0.   0.\n",
      " 0.06 0.   0.   0.   0.05 0.   0.2  0.   0.23 0.   0.   0.19 0.   0.\n",
      " 0.   0.03 0.05 0.   0.   0.   0.   0.   0.   0.   0.   0.   0.   0.\n",
      " 0.   0.08 0.   0.08 0.   0.   0.   0.   0.11 0.24 0.05 0.   0.   0.\n",
      " 0.   0.04 0.   0.14 0.1  0.   0.   0.   0.   0.   0.   0.   0.   0.\n",
      " 0.   0.18 0.   0.08 0.15 0.29 0.   0.14 0.   0.26 0.21 0.2  0.   0.01\n",
      " 0.12 0.   0.   0.19]\n",
      "x:  [0.   0.   0.01 0.01 0.   0.   0.02 0.03 0.   0.02 0.03 0.05 0.03 0.\n",
      " 0.   0.   0.   0.   0.05 0.   0.05 0.   0.   0.02 0.   0.   0.   0.\n",
      " 0.   0.11 0.   0.04 0.23 0.   0.08 0.05 0.04 0.   0.02 0.   0.14 0.\n",
      " 0.   0.   0.   0.13 0.   0.11 0.22 0.14 0.   0.   0.   0.   0.   0.1\n",
      " 0.14 0.07 0.   0.11 0.23 0.01 0.   0.   0.17 0.   0.11 0.   0.   0.15\n",
      " 0.   0.   0.11 0.   0.   0.   0.09 0.   0.   0.21 0.   0.   0.   0.\n",
      " 0.   0.08 0.   0.15 0.   0.   0.29 0.   0.1  0.   0.   0.11 0.   0.25\n",
      " 0.   0.   0.21 0.   0.23 0.2  0.   0.   0.24 0.   0.02 0.   0.   0.\n",
      " 0.   0.   0.13 0.   0.   0.   0.26 0.   0.   0.28 0.   0.14 0.   0.\n",
      " 0.08 0.   0.   0.   0.07 0.   0.28 0.   0.32 0.   0.   0.27 0.   0.\n",
      " 0.   0.05 0.07 0.   0.   0.   0.   0.   0.   0.   0.   0.   0.   0.\n",
      " 0.   0.12 0.   0.12 0.   0.   0.   0.   0.16 0.33 0.07 0.   0.   0.\n",
      " 0.   0.05 0.   0.21 0.14 0.   0.   0.   0.   0.   0.   0.   0.   0.\n",
      " 0.   0.25 0.   0.12 0.22 0.41 0.   0.2  0.   0.37 0.3  0.29 0.   0.01\n",
      " 0.18 0.   0.   0.27]\n",
      "x:  [0.   0.   0.   0.   0.   0.   0.01 0.01 0.   0.01 0.01 0.02 0.02 0.\n",
      " 0.   0.   0.   0.   0.02 0.   0.02 0.   0.   0.01 0.   0.   0.   0.\n",
      " 0.   0.06 0.   0.02 0.12 0.   0.04 0.02 0.02 0.   0.01 0.   0.07 0.\n",
      " 0.   0.   0.   0.06 0.   0.06 0.11 0.07 0.   0.   0.   0.   0.   0.05\n",
      " 0.07 0.03 0.   0.05 0.11 0.01 0.   0.   0.08 0.   0.05 0.   0.   0.08\n",
      " 0.   0.   0.05 0.   0.   0.   0.05 0.   0.   0.11 0.   0.   0.   0.\n",
      " 0.   0.04 0.   0.07 0.   0.   0.14 0.   0.05 0.   0.   0.05 0.   0.12\n",
      " 0.   0.   0.1  0.   0.11 0.1  0.   0.   0.12 0.   0.01 0.   0.   0.\n",
      " 0.   0.   0.06 0.   0.   0.   0.13 0.   0.   0.14 0.   0.07 0.   0.\n",
      " 0.04 0.   0.   0.   0.03 0.   0.14 0.   0.16 0.   0.   0.13 0.   0.\n",
      " 0.   0.02 0.03 0.   0.   0.   0.   0.   0.   0.   0.   0.   0.   0.\n",
      " 0.   0.06 0.   0.06 0.   0.   0.   0.   0.08 0.16 0.03 0.   0.   0.\n",
      " 0.   0.02 0.   0.1  0.07 0.   0.   0.   0.   0.   0.   0.   0.   0.\n",
      " 0.   0.12 0.   0.06 0.11 0.2  0.   0.1  0.   0.18 0.15 0.14 0.   0.01\n",
      " 0.09 0.   0.   0.13]\n",
      "x:  [0.   0.   0.02 0.02 0.   0.   0.04 0.07 0.   0.05 0.07 0.11 0.08 0.\n",
      " 0.   0.   0.   0.   0.13 0.   0.11 0.   0.   0.06 0.   0.   0.   0.\n",
      " 0.   0.27 0.   0.11 0.48 0.   0.19 0.13 0.11 0.   0.04 0.   0.34 0.\n",
      " 0.   0.   0.   0.3  0.   0.29 0.5  0.34 0.   0.   0.   0.   0.01 0.25\n",
      " 0.34 0.19 0.   0.29 0.55 0.03 0.   0.   0.4  0.   0.28 0.   0.   0.39\n",
      " 0.   0.   0.29 0.   0.   0.   0.25 0.   0.   0.51 0.   0.   0.   0.\n",
      " 0.   0.21 0.   0.39 0.   0.   0.72 0.   0.25 0.   0.   0.28 0.   0.6\n",
      " 0.   0.   0.53 0.   0.56 0.51 0.   0.   0.59 0.   0.06 0.   0.   0.\n",
      " 0.   0.   0.34 0.   0.   0.   0.64 0.   0.   0.68 0.   0.37 0.   0.\n",
      " 0.23 0.   0.   0.   0.19 0.   0.71 0.   0.76 0.   0.   0.67 0.   0.\n",
      " 0.   0.13 0.19 0.   0.   0.   0.   0.   0.   0.   0.   0.   0.   0.\n",
      " 0.   0.32 0.   0.32 0.   0.   0.   0.   0.43 0.8  0.18 0.   0.   0.01\n",
      " 0.   0.14 0.   0.54 0.37 0.   0.   0.   0.   0.   0.   0.   0.   0.\n",
      " 0.   0.65 0.   0.32 0.58 1.02 0.   0.52 0.   0.87 0.75 0.75 0.   0.03\n",
      " 0.47 0.   0.   0.71]\n",
      "x:  [0.   0.   0.02 0.02 0.   0.   0.04 0.07 0.   0.05 0.07 0.12 0.09 0.\n",
      " 0.   0.   0.   0.   0.14 0.   0.12 0.   0.   0.07 0.   0.   0.   0.\n",
      " 0.   0.28 0.   0.11 0.5  0.   0.2  0.14 0.11 0.   0.05 0.   0.35 0.\n",
      " 0.   0.   0.   0.32 0.   0.3  0.52 0.35 0.   0.   0.   0.   0.01 0.26\n",
      " 0.36 0.2  0.   0.3  0.58 0.04 0.   0.   0.42 0.   0.3  0.   0.   0.4\n",
      " 0.   0.   0.31 0.   0.   0.   0.26 0.   0.   0.53 0.   0.   0.   0.\n",
      " 0.   0.22 0.   0.41 0.   0.   0.76 0.   0.27 0.   0.   0.29 0.   0.62\n",
      " 0.   0.   0.56 0.   0.59 0.54 0.   0.   0.62 0.   0.06 0.   0.   0.\n",
      " 0.   0.   0.36 0.   0.   0.   0.67 0.   0.   0.71 0.   0.39 0.   0.\n",
      " 0.24 0.   0.   0.   0.2  0.   0.74 0.   0.79 0.   0.   0.71 0.   0.\n",
      " 0.   0.14 0.2  0.   0.   0.   0.   0.   0.   0.   0.   0.   0.   0.\n",
      " 0.   0.34 0.   0.34 0.   0.   0.   0.   0.46 0.83 0.19 0.   0.   0.01\n",
      " 0.   0.15 0.   0.57 0.39 0.   0.   0.   0.   0.   0.   0.   0.   0.\n",
      " 0.   0.68 0.   0.34 0.61 1.07 0.   0.55 0.   0.91 0.79 0.79 0.   0.03\n",
      " 0.5  0.   0.   0.74]\n"
     ]
    }
   ],
   "source": [
    "for x in x_list:\n",
    "    np.set_printoptions(precision=2)\n",
    "    print('x: ', x)"
   ]
  },
  {
   "cell_type": "markdown",
   "metadata": {},
   "source": [
    "### Q6"
   ]
  },
  {
   "cell_type": "markdown",
   "metadata": {},
   "source": [
    "Loading auto-regressive-data.csv and extracting the consumption data"
   ]
  },
  {
   "cell_type": "code",
   "execution_count": 44,
   "metadata": {},
   "outputs": [
    {
     "data": {
      "text/html": [
       "<div>\n",
       "<style scoped>\n",
       "    .dataframe tbody tr th:only-of-type {\n",
       "        vertical-align: middle;\n",
       "    }\n",
       "\n",
       "    .dataframe tbody tr th {\n",
       "        vertical-align: top;\n",
       "    }\n",
       "\n",
       "    .dataframe thead th {\n",
       "        text-align: right;\n",
       "    }\n",
       "</style>\n",
       "<table border=\"1\" class=\"dataframe\">\n",
       "  <thead>\n",
       "    <tr style=\"text-align: right;\">\n",
       "      <th></th>\n",
       "      <th>Date</th>\n",
       "      <th>Consumption</th>\n",
       "      <th>Wind</th>\n",
       "      <th>Solar</th>\n",
       "      <th>Wind+Solar</th>\n",
       "    </tr>\n",
       "  </thead>\n",
       "  <tbody>\n",
       "    <tr>\n",
       "      <th>0</th>\n",
       "      <td>2006-01-01</td>\n",
       "      <td>1069.184</td>\n",
       "      <td>NaN</td>\n",
       "      <td>NaN</td>\n",
       "      <td>NaN</td>\n",
       "    </tr>\n",
       "    <tr>\n",
       "      <th>1</th>\n",
       "      <td>2006-01-02</td>\n",
       "      <td>1380.521</td>\n",
       "      <td>NaN</td>\n",
       "      <td>NaN</td>\n",
       "      <td>NaN</td>\n",
       "    </tr>\n",
       "    <tr>\n",
       "      <th>2</th>\n",
       "      <td>2006-01-03</td>\n",
       "      <td>1442.533</td>\n",
       "      <td>NaN</td>\n",
       "      <td>NaN</td>\n",
       "      <td>NaN</td>\n",
       "    </tr>\n",
       "    <tr>\n",
       "      <th>3</th>\n",
       "      <td>2006-01-04</td>\n",
       "      <td>1457.217</td>\n",
       "      <td>NaN</td>\n",
       "      <td>NaN</td>\n",
       "      <td>NaN</td>\n",
       "    </tr>\n",
       "    <tr>\n",
       "      <th>4</th>\n",
       "      <td>2006-01-05</td>\n",
       "      <td>1477.131</td>\n",
       "      <td>NaN</td>\n",
       "      <td>NaN</td>\n",
       "      <td>NaN</td>\n",
       "    </tr>\n",
       "  </tbody>\n",
       "</table>\n",
       "</div>"
      ],
      "text/plain": [
       "         Date  Consumption  Wind  Solar  Wind+Solar\n",
       "0  2006-01-01     1069.184   NaN    NaN         NaN\n",
       "1  2006-01-02     1380.521   NaN    NaN         NaN\n",
       "2  2006-01-03     1442.533   NaN    NaN         NaN\n",
       "3  2006-01-04     1457.217   NaN    NaN         NaN\n",
       "4  2006-01-05     1477.131   NaN    NaN         NaN"
      ]
     },
     "execution_count": 44,
     "metadata": {},
     "output_type": "execute_result"
    }
   ],
   "source": [
    "df = pd.read_csv('auto-regressive-data.csv')\n",
    "df.head()"
   ]
  },
  {
   "cell_type": "code",
   "execution_count": 45,
   "metadata": {},
   "outputs": [
    {
     "name": "stdout",
     "output_type": "stream",
     "text": [
      "(4383,)\n"
     ]
    }
   ],
   "source": [
    "consumption = np.array(df.Consumption)\n",
    "print(consumption.shape)"
   ]
  },
  {
   "cell_type": "markdown",
   "metadata": {},
   "source": [
    "Creating the matrices $A$ and $b$. Ignoring the first 7 days of data in order to be able to make the lag variables. Also skipping the last day of data as we don't have the consumption data for the next day."
   ]
  },
  {
   "cell_type": "code",
   "execution_count": 46,
   "metadata": {},
   "outputs": [],
   "source": [
    "A = np.zeros((consumption.shape[0] - 1 - 7, 8))\n",
    "\n",
    "for i in range(8):\n",
    "    past_consumption = consumption[7 - i:consumption.shape[0] - 1 - i]\n",
    "    A[:, i] = past_consumption\n",
    "\n",
    "b = consumption[8:]"
   ]
  },
  {
   "cell_type": "code",
   "execution_count": 47,
   "metadata": {},
   "outputs": [
    {
     "name": "stdout",
     "output_type": "stream",
     "text": [
      "(4375, 8)\n"
     ]
    }
   ],
   "source": [
    "print(A.shape)"
   ]
  },
  {
   "cell_type": "markdown",
   "metadata": {},
   "source": [
    "Using Least Squares to find the best $x$ for the equation $Ax = b$"
   ]
  },
  {
   "cell_type": "code",
   "execution_count": 58,
   "metadata": {},
   "outputs": [
    {
     "name": "stdout",
     "output_type": "stream",
     "text": [
      "[ 0.65 -0.09  0.08 -0.04  0.    0.07  0.79 -0.48]\n"
     ]
    }
   ],
   "source": [
    "Lambda = 0.0001\n",
    "x = np.matmul(np.linalg.inv(np.matmul(A.T, A) + Lambda * np.identity(A.shape[1])), np.matmul(A.T, b))\n",
    "print(x)"
   ]
  },
  {
   "cell_type": "markdown",
   "metadata": {},
   "source": [
    "The $MSE$ for the training data is:"
   ]
  },
  {
   "cell_type": "code",
   "execution_count": 59,
   "metadata": {},
   "outputs": [
    {
     "name": "stdout",
     "output_type": "stream",
     "text": [
      "MSE:  4992.896553164592\n"
     ]
    }
   ],
   "source": [
    "b_pred = np.matmul(A, x)\n",
    "mse = np.sum((b_pred - b) ** 2) / (consumption.shape[0] - 1 - 7)\n",
    "print('MSE: ', mse)"
   ]
  },
  {
   "cell_type": "markdown",
   "metadata": {},
   "source": [
    "### Q7"
   ]
  },
  {
   "cell_type": "markdown",
   "metadata": {},
   "source": [
    "Taking one sample from the MNIST dataset"
   ]
  },
  {
   "cell_type": "code",
   "execution_count": 60,
   "metadata": {},
   "outputs": [
    {
     "data": {
      "image/png": "[encoded data removed]",
      "text/plain": [
       "<Figure size 640x480 with 1 Axes>"
      ]
     },
     "metadata": {},
     "output_type": "display_data"
    }
   ],
   "source": [
    "X_train, y_train = mndata.load_training()\n",
    "image = np.array(X_train[218])\n",
    "label = y_train[218]\n",
    "\n",
    "plt.imshow(image.reshape(28, 28), cmap='gray')\n",
    "plt.title('Label: ' + str(label))\n",
    "plt.show()"
   ]
  },
  {
   "cell_type": "markdown",
   "metadata": {},
   "source": [
    "Creating the Gaussian Blur Kernel"
   ]
  },
  {
   "cell_type": "code",
   "execution_count": 61,
   "metadata": {},
   "outputs": [
    {
     "name": "stdout",
     "output_type": "stream",
     "text": [
      "[[0.0625 0.125  0.0625]\n",
      " [0.125  0.25   0.125 ]\n",
      " [0.0625 0.125  0.0625]]\n"
     ]
    }
   ],
   "source": [
    "K = [[1 / 16, 1 / 8, 1 / 16], [1 / 8, 1 / 4, 1 / 8], [1 / 16, 1 / 8, 1 / 16]]\n",
    "K = np.array(K)\n",
    "np.set_printoptions(precision=5)\n",
    "print(K)"
   ]
  },
  {
   "cell_type": "markdown",
   "metadata": {},
   "source": [
    "Creating the Toeplitz matrix $A$ of $K$. \n",
    "\n",
    "*[Reference](https://github.com/alisaaalehi/convolution_as_multiplication/tree/main)*"
   ]
  },
  {
   "cell_type": "code",
   "execution_count": 62,
   "metadata": {},
   "outputs": [
    {
     "name": "stdout",
     "output_type": "stream",
     "text": [
      "(30, 30)\n"
     ]
    }
   ],
   "source": [
    "output_dim = (28 + K.shape[0] - 1, 28 + K.shape[1] - 1)\n",
    "print(output_dim)"
   ]
  },
  {
   "cell_type": "code",
   "execution_count": 63,
   "metadata": {},
   "outputs": [
    {
     "name": "stdout",
     "output_type": "stream",
     "text": [
      "Shape of each toeplitz matrix:  (30, 28)\n",
      "Shape of doubly blocked toeplitz matrix:  (900, 784)\n",
      "A small sample of the doubly blocked toeplitz matrix: \n",
      "[[0.0625 0.     0.     0.     0.     0.     0.     0.     0.     0.     0.     0.     0.     0.     0.     0.     0.     0.     0.     0.    ]\n",
      " [0.125  0.0625 0.     0.     0.     0.     0.     0.     0.     0.     0.     0.     0.     0.     0.     0.     0.     0.     0.     0.    ]\n",
      " [0.0625 0.125  0.0625 0.     0.     0.     0.     0.     0.     0.     0.     0.     0.     0.     0.     0.     0.     0.     0.     0.    ]\n",
      " [0.     0.0625 0.125  0.0625 0.     0.     0.     0.     0.     0.     0.     0.     0.     0.     0.     0.     0.     0.     0.     0.    ]\n",
      " [0.     0.     0.0625 0.125  0.0625 0.     0.     0.     0.     0.     0.     0.     0.     0.     0.     0.     0.     0.     0.     0.    ]\n",
      " [0.     0.     0.     0.0625 0.125  0.0625 0.     0.     0.     0.     0.     0.     0.     0.     0.     0.     0.     0.     0.     0.    ]\n",
      " [0.     0.     0.     0.     0.0625 0.125  0.0625 0.     0.     0.     0.     0.     0.     0.     0.     0.     0.     0.     0.     0.    ]\n",
      " [0.     0.     0.     0.     0.     0.0625 0.125  0.0625 0.     0.     0.     0.     0.     0.     0.     0.     0.     0.     0.     0.    ]\n",
      " [0.     0.     0.     0.     0.     0.     0.0625 0.125  0.0625 0.     0.     0.     0.     0.     0.     0.     0.     0.     0.     0.    ]\n",
      " [0.     0.     0.     0.     0.     0.     0.     0.0625 0.125  0.0625 0.     0.     0.     0.     0.     0.     0.     0.     0.     0.    ]\n",
      " [0.     0.     0.     0.     0.     0.     0.     0.     0.0625 0.125  0.0625 0.     0.     0.     0.     0.     0.     0.     0.     0.    ]\n",
      " [0.     0.     0.     0.     0.     0.     0.     0.     0.     0.0625 0.125  0.0625 0.     0.     0.     0.     0.     0.     0.     0.    ]\n",
      " [0.     0.     0.     0.     0.     0.     0.     0.     0.     0.     0.0625 0.125  0.0625 0.     0.     0.     0.     0.     0.     0.    ]\n",
      " [0.     0.     0.     0.     0.     0.     0.     0.     0.     0.     0.     0.0625 0.125  0.0625 0.     0.     0.     0.     0.     0.    ]\n",
      " [0.     0.     0.     0.     0.     0.     0.     0.     0.     0.     0.     0.     0.0625 0.125  0.0625 0.     0.     0.     0.     0.    ]\n",
      " [0.     0.     0.     0.     0.     0.     0.     0.     0.     0.     0.     0.     0.     0.0625 0.125  0.0625 0.     0.     0.     0.    ]\n",
      " [0.     0.     0.     0.     0.     0.     0.     0.     0.     0.     0.     0.     0.     0.     0.0625 0.125  0.0625 0.     0.     0.    ]\n",
      " [0.     0.     0.     0.     0.     0.     0.     0.     0.     0.     0.     0.     0.     0.     0.     0.0625 0.125  0.0625 0.     0.    ]\n",
      " [0.     0.     0.     0.     0.     0.     0.     0.     0.     0.     0.     0.     0.     0.     0.     0.     0.0625 0.125  0.0625 0.    ]\n",
      " [0.     0.     0.     0.     0.     0.     0.     0.     0.     0.     0.     0.     0.     0.     0.     0.     0.     0.0625 0.125  0.0625]]\n"
     ]
    }
   ],
   "source": [
    "#Making a padded K with the same dimensions as the output\n",
    "padded_K = np.zeros(output_dim)\n",
    "padded_K[output_dim[0] - K.shape[0]:, :K.shape[1]] = K\n",
    "\n",
    "#Creating a toeplitz matrix for each row of the padded K, starting from the last row, having the same number of columns as the input image\n",
    "toeplitz_matrices = []\n",
    "for i in reversed(range(padded_K.shape[0])):\n",
    "    c = padded_K[i]\n",
    "    r = np.array([c[0]] + [0] * (28 - 1))\n",
    "    toeplitz_matrices.append(toeplitz(c, r))\n",
    "\n",
    "print('Shape of each toeplitz matrix: ', toeplitz_matrices[0].shape)\n",
    "\n",
    "#Creating a doubly blocked toeplitz matrix from the generated toeplitz matrices having the same number of columns as the input image\n",
    "doubly_blocked_toeplitz = np.zeros((30 * 30, 28 * 28))\n",
    "for i in range(30):\n",
    "    for j in range(28):\n",
    "        if i - j >= 0:\n",
    "            doubly_blocked_toeplitz[i * 30: (i + 1) * 30, j * 28 : (j + 1) * 28] = toeplitz_matrices[i - j]\n",
    "\n",
    "print('Shape of doubly blocked toeplitz matrix: ', doubly_blocked_toeplitz.shape)\n",
    "np. set_printoptions(threshold=np. inf)\n",
    "np.set_printoptions(linewidth=np.inf)\n",
    "print('A small sample of the doubly blocked toeplitz matrix: ')\n",
    "print(doubly_blocked_toeplitz[:20, :20])"
   ]
  },
  {
   "cell_type": "markdown",
   "metadata": {},
   "source": [
    "Creating the blurred image $y$"
   ]
  },
  {
   "cell_type": "code",
   "execution_count": 64,
   "metadata": {},
   "outputs": [
    {
     "name": "stdout",
     "output_type": "stream",
     "text": [
      "(900,)\n"
     ]
    },
    {
     "data": {
      "image/png": "[encoded data removed]",
      "text/plain": [
       "<Figure size 640x480 with 2 Axes>"
      ]
     },
     "metadata": {},
     "output_type": "display_data"
    }
   ],
   "source": [
    "y = np.dot(doubly_blocked_toeplitz, image)\n",
    "print(y.shape)\n",
    "\n",
    "#Compare original image with blurred image side by side\n",
    "plt.subplot(1, 2, 1)\n",
    "plt.imshow(image.reshape(28, 28), cmap='gray')\n",
    "plt.title('Original Image')\n",
    "plt.subplot(1, 2, 2)\n",
    "plt.imshow(y.reshape(30, 30), cmap='gray')\n",
    "plt.title('Blurred Image')\n",
    "plt.show()"
   ]
  },
  {
   "cell_type": "markdown",
   "metadata": {},
   "source": [
    "Creating the matrix $D_h$"
   ]
  },
  {
   "cell_type": "code",
   "execution_count": 65,
   "metadata": {},
   "outputs": [],
   "source": [
    "D_h = np.zeros((27 * 28, 28 * 28))\n",
    "I = np.identity(28)\n",
    "for i in range(27):\n",
    "    D_h[i * 28 : (i + 1) * 28, i * 28 : (i + 1) * 28] = -I\n",
    "    D_h[i * 28 : (i + 1) * 28, (i + 1) * 28 : (i + 2) * 28] = I"
   ]
  },
  {
   "cell_type": "markdown",
   "metadata": {},
   "source": [
    "Creating the matrix $D_v$"
   ]
  },
  {
   "cell_type": "code",
   "execution_count": 66,
   "metadata": {},
   "outputs": [],
   "source": [
    "D_v = np.zeros((27 * 28 * 28, 28 * 28))\n",
    "D = np.zeros((27, 28))\n",
    "for i in range(27):\n",
    "    D[i, i] = -1\n",
    "    D[i, i + 1] = 1\n",
    "for i in range(28):\n",
    "    D_v[i * 27 : (i + 1) * 27, i * 28 : (i + 1) * 28] = D"
   ]
  },
  {
   "cell_type": "markdown",
   "metadata": {},
   "source": [
    "Finding the best $\\hat{x}$ to minimize the equation $J = \\Vert{y - A\\hat{x}}\\Vert^{\\tiny 2}_{\\tiny 2} + \\lambda \\Vert{D_h\\hat{x}}\\Vert^{\\tiny 2}_{\\tiny 2} + \\lambda \\Vert{D_v\\hat{x}}\\Vert^{\\tiny 2}_{\\tiny 2}$ in order to deblur the image.\n",
    "The solution is given by,\n",
    "$$\\hat{x} = (A^TA + \\lambda D_h^TD_h + \\lambda D_v^TD_v)^{-1}A^Ty$$"
   ]
  },
  {
   "cell_type": "code",
   "execution_count": 67,
   "metadata": {},
   "outputs": [
    {
     "name": "stdout",
     "output_type": "stream",
     "text": [
      "(784,)\n"
     ]
    }
   ],
   "source": [
    "Lambda = 0.007\n",
    "x_hat = np.matmul(np.linalg.inv(np.matmul(doubly_blocked_toeplitz.T, doubly_blocked_toeplitz) + Lambda * np.matmul(D_h.T, D_h) + Lambda * np.matmul(D_v.T, D_v)), np.matmul(doubly_blocked_toeplitz.T, y))\n",
    "print(x_hat.shape)"
   ]
  },
  {
   "cell_type": "markdown",
   "metadata": {},
   "source": [
    "Comparing the original, blurred and deblurred image"
   ]
  },
  {
   "cell_type": "code",
   "execution_count": 68,
   "metadata": {},
   "outputs": [
    {
     "data": {
      "image/png": "[encoded data removed]",
      "text/plain": [
       "<Figure size 640x480 with 3 Axes>"
      ]
     },
     "metadata": {},
     "output_type": "display_data"
    }
   ],
   "source": [
    "#Compare original image, blurred image and deblurred image side by side\n",
    "plt.subplot(1, 3, 1)\n",
    "plt.imshow(image.reshape(28, 28), cmap='gray')\n",
    "plt.title('Original Image')\n",
    "plt.subplot(1, 3, 2)\n",
    "plt.imshow(y.reshape(30, 30), cmap='gray')\n",
    "plt.title('Blurred Image')\n",
    "plt.subplot(1, 3, 3)\n",
    "plt.imshow(x_hat.reshape(28, 28), cmap='gray')\n",
    "plt.title('Deblurred Image')\n",
    "plt.show()"
   ]
  },
  {
   "cell_type": "markdown",
   "metadata": {},
   "source": [
    "### Q8"
   ]
  },
  {
   "cell_type": "markdown",
   "metadata": {},
   "source": [
    "Creating the vectors $p$ and $q$"
   ]
  },
  {
   "cell_type": "code",
   "execution_count": 69,
   "metadata": {},
   "outputs": [],
   "source": [
    "p = np.random.uniform(-1, 1, 100)\n",
    "q = np.random.uniform(-1, 1, 100)"
   ]
  },
  {
   "cell_type": "markdown",
   "metadata": {},
   "source": [
    "Creating the vector $b$"
   ]
  },
  {
   "cell_type": "code",
   "execution_count": 70,
   "metadata": {},
   "outputs": [
    {
     "name": "stdout",
     "output_type": "stream",
     "text": [
      "[0.7763  0.11109 0.14378 0.10165 1.30514 0.35239 1.84978 1.52493 0.85092 0.57042 0.1938  0.13944 0.83391 0.925   1.10477 0.49693 1.91256 0.70125 0.10968 1.23712 0.35234 0.78947 0.68632 0.28618 0.05872 0.17743 1.48386 0.11868 1.60658 0.06927 0.0081  0.56346 0.64482 0.16622 0.75609 0.60105 1.6193  0.89238 0.13306 1.52054 1.6768  0.59828 0.72704 0.40609 0.23379 1.26491 0.80168 0.65195 0.35211 1.47131 0.12343 0.19616 0.26447 1.14449 0.90867 0.46483 0.81423 0.54991 0.35782 0.74612 0.39956 0.40706 0.32833 0.83168 0.98456 0.02874 0.49451 0.80767 1.62495 0.06546 0.43511 1.41919 1.75945 0.65236 1.61224 0.75302 0.21086 0.67465 0.93908 0.32997 0.61062 0.32193 0.46142 0.04576 2.14567 0.00507 0.66314 0.67188 1.8116  0.06358 0.21042 0.63348 0.227   0.47612 1.63984 2.26347 0.46935 1.18736 1.13785 0.4161 ]\n"
     ]
    }
   ],
   "source": [
    "b = p * q + p ** 2 + q ** 2\n",
    "print(b)"
   ]
  },
  {
   "cell_type": "markdown",
   "metadata": {},
   "source": [
    "Creating the matrix $A$"
   ]
  },
  {
   "cell_type": "code",
   "execution_count": 71,
   "metadata": {},
   "outputs": [],
   "source": [
    "A = np.zeros((100, 6))\n",
    "for i in range(100):\n",
    "    A[i][0] = 1\n",
    "    A[i][1] = p[i]\n",
    "    A[i][2] = q[i]\n",
    "    A[i][3] = p[i] ** 2\n",
    "    A[i][4] = q[i] ** 2\n",
    "    A[i][5] = p[i] * q[i]"
   ]
  },
  {
   "cell_type": "markdown",
   "metadata": {},
   "source": [
    "Finding the Least Squares solution for $Ax = b$ using Gradient Descent"
   ]
  },
  {
   "cell_type": "code",
   "execution_count": 72,
   "metadata": {},
   "outputs": [],
   "source": [
    "x = np.random.uniform(-1, 1, 6)\n",
    "x = x.reshape(6, 1)\n",
    "b = b.reshape(100, 1)\n",
    "for i in range(10000):\n",
    "    #Forward Pass:\n",
    "    b_pred = np.matmul(A, x)\n",
    "    #Backward Pass:\n",
    "    x = x - 0.1 / A.shape[0] * np.matmul((b_pred - b).T, A).T"
   ]
  },
  {
   "cell_type": "markdown",
   "metadata": {},
   "source": [
    "The vector $x$ is:"
   ]
  },
  {
   "cell_type": "code",
   "execution_count": 73,
   "metadata": {},
   "outputs": [
    {
     "name": "stdout",
     "output_type": "stream",
     "text": [
      "[[ 4.02684e-15]\n",
      " [ 1.99251e-16]\n",
      " [-4.95367e-16]\n",
      " [ 1.00000e+00]\n",
      " [ 1.00000e+00]\n",
      " [ 1.00000e+00]]\n"
     ]
    }
   ],
   "source": [
    "print(x)"
   ]
  },
  {
   "cell_type": "markdown",
   "metadata": {},
   "source": [
    "The $MSE$ found is:"
   ]
  },
  {
   "cell_type": "code",
   "execution_count": 74,
   "metadata": {},
   "outputs": [
    {
     "name": "stdout",
     "output_type": "stream",
     "text": [
      "MSE:  1.6978252513161596e-29\n"
     ]
    }
   ],
   "source": [
    "b_pred = np.matmul(A, x)\n",
    "mse = np.sum((b_pred - b) ** 2) / 100\n",
    "print('MSE: ', mse)"
   ]
  },
  {
   "cell_type": "markdown",
   "metadata": {},
   "source": [
    "### Q9"
   ]
  },
  {
   "cell_type": "markdown",
   "metadata": {},
   "source": [
    "Getting the data"
   ]
  },
  {
   "cell_type": "code",
   "execution_count": 75,
   "metadata": {},
   "outputs": [
    {
     "name": "stdout",
     "output_type": "stream",
     "text": [
      "          t          b\n",
      "0  1.786011  11.711581\n",
      "1  2.962026  44.862219\n",
      "2  0.614960   2.533295\n",
      "3  2.962919  44.888936\n",
      "4  0.380318   3.003687\n"
     ]
    }
   ],
   "source": [
    "df = pd.read_csv('assignment9_data.csv')\n",
    "print(df.head())"
   ]
  },
  {
   "cell_type": "markdown",
   "metadata": {},
   "source": [
    "Partitioning the data into intervals of $[0, 1]$, $[1, 2]$ and $[2, 3]$ "
   ]
  },
  {
   "cell_type": "code",
   "execution_count": 76,
   "metadata": {},
   "outputs": [],
   "source": [
    "data_01 = df[df['t'] <= 1].reset_index(drop=True)\n",
    "data_12 = df[(df['t'] > 1) & (df['t'] <= 2)].reset_index(drop=True)\n",
    "data_23 = df[(df['t'] > 2) & (df['t'] <= 3)].reset_index(drop=True)"
   ]
  },
  {
   "cell_type": "markdown",
   "metadata": {},
   "source": [
    "Let $f_1$, $f_2$ and $f_3$ be $$f_{\\tiny 1} = a_{\\tiny 2}x^2 + a_{\\tiny 1}x + a_{\\tiny 0}$$\n",
    "$$f_{\\tiny 2} = b_{\\tiny 3}x^3 + b_{\\tiny 2}x^2 + b_{\\tiny 1}x + b_{\\tiny 0}$$\n",
    "$$f_{\\tiny 3} = c_{\\tiny 2}x^2 + c_{\\tiny 1}x + c_{\\tiny 0}$$\n",
    "Then $\\hat{x}$ is,\n",
    "$$\\hat{x} = \\begin{bmatrix}a_{\\tiny 2}\\\\a_{\\tiny 1}\\\\a_{\\tiny 0}\\\\b_{\\tiny 3}\\\\b_{\\tiny 2}\\\\b_{\\tiny 1}\\\\b_{\\tiny 0}\\\\c_{\\tiny 2}\\\\c_{\\tiny 1}\\\\c_{\\tiny 0}\\end{bmatrix}$$\n",
    "and $A$ is,\n",
    "$$A = \\begin{bmatrix}x_1^2 & x_1 & 1 & 0 & 0 & 0 & 0 & 0 & 0 & 0\\\\x_2^2 & x_2 & 1 & 0 & 0 & 0 & 0 & 0 & 0 & 0\\\\x_3^2 & x_3 & 1 & 0 & 0 & 0 & 0 & 0 & 0 & 0\\\\\\vdots & \\vdots & \\vdots & \\vdots & \\vdots & \\vdots & \\vdots & \\vdots & \\vdots & \\vdots\\\\0 & 0 & 0 & 0 & 0 & 0 & 0 & x_{\\tiny m - 2}^2 & x_{\\tiny m - 2} & 1\\\\0 & 0 & 0 & 0 & 0 & 0 & 0 & x_{\\tiny m - 1}^2 & x_{\\tiny m - 1} & 1\\\\0 & 0 & 0 & 0 & 0 & 0 & 0 & x_{\\tiny m}^2 & x_{\\tiny m} & 1\\end{bmatrix}$$"
   ]
  },
  {
   "cell_type": "code",
   "execution_count": 77,
   "metadata": {},
   "outputs": [],
   "source": [
    "A = np.zeros((len(df), 10))\n",
    "for i in range(50):\n",
    "    A[i, 0] = data_01['t'][i] ** 2\n",
    "    A[i, 1] = data_01['t'][i]\n",
    "    A[i, 2] = 1\n",
    "for i in range(50, 100):\n",
    "    A[i, 3] = data_12['t'][i - 50] ** 3\n",
    "    A[i, 4] = data_12['t'][i - 50] ** 2\n",
    "    A[i, 5] = data_12['t'][i - 50]\n",
    "    A[i, 6] = 1\n",
    "for i in range(100, 150):\n",
    "    A[i, 7] = data_23['t'][i - 100] ** 2\n",
    "    A[i, 8] = data_23['t'][i - 100]\n",
    "    A[i, 9] = 1\n",
    "\n",
    "b = np.zeros((len(df), 1))\n",
    "for i in range(50):\n",
    "    b[i] = data_01['b'][i]\n",
    "for i in range(50, 100):\n",
    "    b[i] = data_12['b'][i - 50]\n",
    "for i in range(100, 150):\n",
    "    b[i] = data_23['b'][i - 100]"
   ]
  },
  {
   "cell_type": "markdown",
   "metadata": {},
   "source": [
    "Given that $$f_1(1) = f_2(1)$$ $$f_2(2) = f_3(2)$$ $$f'_2(2) = f'_3(2)$$\n",
    "which is equivalent to:\n",
    "$$a_{\\tiny 2} + a_{\\tiny 1} + a_{\\tiny 0} = b_{\\tiny 3} + b_{\\tiny 2} + b_{\\tiny 1} + b_{\\tiny 0}$$\n",
    "$$8b_{\\tiny 3} + 4b_{\\tiny 2} + 2b_{\\tiny 1} + b_{\\tiny 0} = 4c_{\\tiny 2} + 2c_{\\tiny 1} + c_{\\tiny 0}$$\n",
    "$$12b_{\\tiny 3} + 4b_{\\tiny 2} + b_{\\tiny 1} = 4c_{\\tiny 2} + c_{\\tiny 1}$$\n",
    "which is equivalent to:\n",
    "$$a_{\\tiny 2} + a_{\\tiny 1} + a_{\\tiny 0} - b_{\\tiny 3} - b_{\\tiny 2} - b_{\\tiny 1} - b_{\\tiny 0} = 0$$\n",
    "$$4c_{\\tiny 2} + 2c_{\\tiny 1} + c_{\\tiny 0} - 8b_{\\tiny 3} - 4b_{\\tiny 2} - 2b_{\\tiny 1} - b_{\\tiny 0} = 0$$\n",
    "$$4c_{\\tiny 2} + c_{\\tiny 1} - 12b_{\\tiny 3} - 4b_{\\tiny 2} - b_{\\tiny 1} = 0$$\n",
    "Thus, the matrix $C$ becomes,\n",
    "$$C = \\begin{bmatrix}1 & 1 & 1 & -1 & -1 & -1 & -1 & 0 & 0 & 0\\\\0 & 0 & 0 & -8 & -4 & -2 & -1 & 4 & 2 & 1\\\\0 & 0 & 0 & -12 & -4 & -1 & 0 & 4 & 1 & 0\\end{bmatrix}$$\n",
    "and $d$ is:\n",
    "$$d = \\begin{bmatrix}0\\\\0\\\\0\\end{bmatrix}$$"
   ]
  },
  {
   "cell_type": "code",
   "execution_count": 78,
   "metadata": {},
   "outputs": [],
   "source": [
    "C = np.array([[1, 1, 1, -1, -1, -1, -1, 0, 0, 0], [0, 0, 0, -8, -4, -2, -1, 4, 2, 1], [0, 0, 0, -12, -4, -1, 0, 4, 1, 0]])\n",
    "d = np.array([0, 0, 0])"
   ]
  },
  {
   "cell_type": "markdown",
   "metadata": {},
   "source": [
    "Thus, the KKT Matrix is:\n",
    "$$\\begin{bmatrix}2A^TA & C^T\\\\C & 0\\end{bmatrix}$$"
   ]
  },
  {
   "cell_type": "code",
   "execution_count": 79,
   "metadata": {},
   "outputs": [],
   "source": [
    "KKT = np.zeros((13, 13))\n",
    "KKT[:10, :10] = 2 * np.matmul(A.T, A)\n",
    "KKT[:10, 10:] = C.T\n",
    "KKT[10:, :10] = C"
   ]
  },
  {
   "cell_type": "markdown",
   "metadata": {},
   "source": [
    "The solution to the system of equations is:\n",
    "$$\\begin{bmatrix}\\hat{x} \\\\ \\hat{z}\\end{bmatrix} = \\begin{bmatrix}2A^TA & C^T\\\\C & 0\\end{bmatrix}^{-1}\\begin{bmatrix}2A^Tb\\\\d\\end{bmatrix}$$"
   ]
  },
  {
   "cell_type": "code",
   "execution_count": 80,
   "metadata": {},
   "outputs": [
    {
     "name": "stdout",
     "output_type": "stream",
     "text": [
      "[[ 1.00000e+00]\n",
      " [-3.00000e+00]\n",
      " [ 4.00000e+00]\n",
      " [ 3.00000e+00]\n",
      " [-2.00000e+00]\n",
      " [ 2.76486e-10]\n",
      " [ 1.00000e+00]\n",
      " [ 1.00000e+00]\n",
      " [ 2.40000e+01]\n",
      " [-3.50000e+01]]\n"
     ]
    }
   ],
   "source": [
    "soln = np.matmul(np.linalg.inv(KKT), np.concatenate((2 * np.matmul(A.T, b), d.reshape(3, 1))))\n",
    "x_hat = soln[:10]\n",
    "print(x_hat)"
   ]
  },
  {
   "cell_type": "markdown",
   "metadata": {},
   "source": [
    "The resulting equations of $f_1$, $f_2$ and $f_3$ are:\n",
    "$$f_{\\tiny 1} = x^2 -3x + 4$$\n",
    "$$f_{\\tiny 2} = 3x^3 - 2x^2 + 1$$\n",
    "$$f_{\\tiny 3} = x^2 + 24x - 35$$\n",
    "\n",
    "Note: Taking $2.76486*10^{-10}$ to be equivalent to $0$"
   ]
  }
 ],
 "metadata": {
  "kernelspec": {
   "display_name": "Python 3",
   "language": "python",
   "name": "python3"
  },
  "language_info": {
   "codemirror_mode": {
    "name": "ipython",
    "version": 3
   },
   "file_extension": ".py",
   "mimetype": "text/x-python",
   "name": "python",
   "nbconvert_exporter": "python",
   "pygments_lexer": "ipython3",
   "version": "3.12.0"
  }
 },
 "nbformat": 4,
 "nbformat_minor": 2
}
